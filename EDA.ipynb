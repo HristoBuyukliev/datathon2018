{
 "cells": [
  {
   "cell_type": "code",
   "execution_count": 2,
   "metadata": {},
   "outputs": [],
   "source": [
    "import pandas as pd\n",
    "import numpy as np\n",
    "import matplotlib.pyplot as plt"
   ]
  },
  {
   "cell_type": "code",
   "execution_count": 6,
   "metadata": {},
   "outputs": [],
   "source": [
    "data = pd.read_csv('data/Datathon_2018_Dataset_Hashbyte_New.csv', delimiter=';')"
   ]
  },
  {
   "cell_type": "code",
   "execution_count": 7,
   "metadata": {},
   "outputs": [
    {
     "data": {
      "text/plain": [
       "(1452755, 4)"
      ]
     },
     "execution_count": 7,
     "metadata": {},
     "output_type": "execute_result"
    }
   ],
   "source": [
    "data.shape"
   ]
  },
  {
   "cell_type": "code",
   "execution_count": 8,
   "metadata": {},
   "outputs": [
    {
     "data": {
      "text/plain": [
       "Index(['Subscriber_A', 'Subsciber_B', 'Label', 'Real_Event_Flag'], dtype='object')"
      ]
     },
     "execution_count": 8,
     "metadata": {},
     "output_type": "execute_result"
    }
   ],
   "source": [
    "data.columns"
   ]
  },
  {
   "cell_type": "code",
   "execution_count": 9,
   "metadata": {},
   "outputs": [
    {
     "data": {
      "text/html": [
       "<div>\n",
       "<style scoped>\n",
       "    .dataframe tbody tr th:only-of-type {\n",
       "        vertical-align: middle;\n",
       "    }\n",
       "\n",
       "    .dataframe tbody tr th {\n",
       "        vertical-align: top;\n",
       "    }\n",
       "\n",
       "    .dataframe thead th {\n",
       "        text-align: right;\n",
       "    }\n",
       "</style>\n",
       "<table border=\"1\" class=\"dataframe\">\n",
       "  <thead>\n",
       "    <tr style=\"text-align: right;\">\n",
       "      <th></th>\n",
       "      <th>Subscriber_A</th>\n",
       "      <th>Subsciber_B</th>\n",
       "      <th>Label</th>\n",
       "      <th>Real_Event_Flag</th>\n",
       "    </tr>\n",
       "  </thead>\n",
       "  <tbody>\n",
       "    <tr>\n",
       "      <th>0</th>\n",
       "      <td>0xFC1A79880148D5D3FBC989C90F9D99AE</td>\n",
       "      <td>0x60358E62F5C03EC19AD81C54915AE0B4</td>\n",
       "      <td>Low</td>\n",
       "      <td>0</td>\n",
       "    </tr>\n",
       "    <tr>\n",
       "      <th>1</th>\n",
       "      <td>0xFC1A79880148D5D3FBC989C90F9D99AE</td>\n",
       "      <td>0x60358E62F5C03EC19AD81C54915AE0B4</td>\n",
       "      <td>Low</td>\n",
       "      <td>0</td>\n",
       "    </tr>\n",
       "    <tr>\n",
       "      <th>2</th>\n",
       "      <td>0xFC1A79880148D5D3FBC989C90F9D99AE</td>\n",
       "      <td>0x542A679EA6DC3752D01E4C40A6DC2708</td>\n",
       "      <td>Low</td>\n",
       "      <td>0</td>\n",
       "    </tr>\n",
       "    <tr>\n",
       "      <th>3</th>\n",
       "      <td>0x62E0C33CB0F9327FE8EE5FA064DAF69F</td>\n",
       "      <td>0x03D6B65B220C904678732E5439346F48</td>\n",
       "      <td>Low</td>\n",
       "      <td>0</td>\n",
       "    </tr>\n",
       "    <tr>\n",
       "      <th>4</th>\n",
       "      <td>0x2F23F291B052F4CEE0B213F97C25CA4E</td>\n",
       "      <td>0xDBCE45BBADC9DB251F11633CC054DDF3</td>\n",
       "      <td>Low</td>\n",
       "      <td>0</td>\n",
       "    </tr>\n",
       "  </tbody>\n",
       "</table>\n",
       "</div>"
      ],
      "text/plain": [
       "                         Subscriber_A                         Subsciber_B  \\\n",
       "0  0xFC1A79880148D5D3FBC989C90F9D99AE  0x60358E62F5C03EC19AD81C54915AE0B4   \n",
       "1  0xFC1A79880148D5D3FBC989C90F9D99AE  0x60358E62F5C03EC19AD81C54915AE0B4   \n",
       "2  0xFC1A79880148D5D3FBC989C90F9D99AE  0x542A679EA6DC3752D01E4C40A6DC2708   \n",
       "3  0x62E0C33CB0F9327FE8EE5FA064DAF69F  0x03D6B65B220C904678732E5439346F48   \n",
       "4  0x2F23F291B052F4CEE0B213F97C25CA4E  0xDBCE45BBADC9DB251F11633CC054DDF3   \n",
       "\n",
       "  Label  Real_Event_Flag  \n",
       "0   Low                0  \n",
       "1   Low                0  \n",
       "2   Low                0  \n",
       "3   Low                0  \n",
       "4   Low                0  "
      ]
     },
     "execution_count": 9,
     "metadata": {},
     "output_type": "execute_result"
    }
   ],
   "source": [
    "data.head()"
   ]
  },
  {
   "cell_type": "code",
   "execution_count": 10,
   "metadata": {},
   "outputs": [
    {
     "data": {
      "text/plain": [
       "54595"
      ]
     },
     "execution_count": 10,
     "metadata": {},
     "output_type": "execute_result"
    }
   ],
   "source": [
    "data.Subscriber_A.unique().size"
   ]
  },
  {
   "cell_type": "code",
   "execution_count": 11,
   "metadata": {},
   "outputs": [
    {
     "data": {
      "text/plain": [
       "99808"
      ]
     },
     "execution_count": 11,
     "metadata": {},
     "output_type": "execute_result"
    }
   ],
   "source": [
    "data.Subsciber_B.unique().size"
   ]
  },
  {
   "cell_type": "code",
   "execution_count": 12,
   "metadata": {},
   "outputs": [
    {
     "data": {
      "text/plain": [
       "0.8786175232575348"
      ]
     },
     "execution_count": 12,
     "metadata": {},
     "output_type": "execute_result"
    }
   ],
   "source": [
    "data.Real_Event_Flag.mean()"
   ]
  },
  {
   "cell_type": "code",
   "execution_count": 13,
   "metadata": {},
   "outputs": [
    {
     "data": {
      "text/plain": [
       "Medium    490172\n",
       "Low       489743\n",
       "High      472840\n",
       "Name: Label, dtype: int64"
      ]
     },
     "execution_count": 13,
     "metadata": {},
     "output_type": "execute_result"
    }
   ],
   "source": [
    "data.Label.value_counts()"
   ]
  },
  {
   "cell_type": "code",
   "execution_count": 14,
   "metadata": {},
   "outputs": [],
   "source": [
    "intersection_subscribers = set(data.Subscriber_A.unique()) & set(data.Subsciber_B.unique())"
   ]
  },
  {
   "cell_type": "code",
   "execution_count": 15,
   "metadata": {},
   "outputs": [
    {
     "data": {
      "text/plain": [
       "35712"
      ]
     },
     "execution_count": 15,
     "metadata": {},
     "output_type": "execute_result"
    }
   ],
   "source": [
    "len(intersection_subscribers)"
   ]
  },
  {
   "cell_type": "markdown",
   "metadata": {},
   "source": [
    "### is the data a tree or is there some cyclicity???"
   ]
  },
  {
   "cell_type": "code",
   "execution_count": 16,
   "metadata": {},
   "outputs": [],
   "source": [
    "num_outgoing_calls = data.Subscriber_A.value_counts()\n",
    "meta_num_outgoing_calls = num_outgoing_calls.value_counts()"
   ]
  },
  {
   "cell_type": "markdown",
   "metadata": {},
   "source": [
    "### for some reason most number of calls are even"
   ]
  },
  {
   "cell_type": "code",
   "execution_count": 17,
   "metadata": {},
   "outputs": [],
   "source": [
    "most_social_person = num_outgoing_calls.head(1).index[0]"
   ]
  },
  {
   "cell_type": "code",
   "execution_count": 18,
   "metadata": {},
   "outputs": [
    {
     "name": "stdout",
     "output_type": "stream",
     "text": [
      "0\n",
      "1\n",
      "cycle found!\n"
     ]
    }
   ],
   "source": [
    "social_set = [most_social_person]\n",
    "for degree in range(5):\n",
    "    print(degree)\n",
    "    responders = data[data.Subscriber_A.isin(social_set)].Subsciber_B.unique()\n",
    "    if most_social_person in responders:\n",
    "        print('cycle found!')\n",
    "        break\n",
    "    social_set = responders"
   ]
  }
 ],
 "metadata": {
  "kernelspec": {
   "display_name": "Python 3",
   "language": "python",
   "name": "python3"
  },
  "language_info": {
   "codemirror_mode": {
    "name": "ipython",
    "version": 3
   },
   "file_extension": ".py",
   "mimetype": "text/x-python",
   "name": "python",
   "nbconvert_exporter": "python",
   "pygments_lexer": "ipython3",
   "version": "3.5.2"
  }
 },
 "nbformat": 4,
 "nbformat_minor": 2
}
